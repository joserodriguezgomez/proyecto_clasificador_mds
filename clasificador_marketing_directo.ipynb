{
 "cells": [
  {
   "cell_type": "code",
   "execution_count": 2,
   "id": "d353e325",
   "metadata": {},
   "outputs": [],
   "source": [
    "import pandas as pd\n",
    "import numpy as np\n",
    "import os\n",
    "from plotnine import *\n",
    "from sklearn.metrics import make_scorer\n",
    "from sklearn.pipeline import Pipeline\n",
    "from sklearn.preprocessing import MinMaxScaler\n",
    "from sklearn.model_selection import GridSearchCV\n",
    "from sklearn.neighbors import KNeighborsClassifier\n",
    "from sklearn.metrics import precision_score, recall_score, f1_score\n",
    "from sklearn.model_selection import KFold\n",
    "from sklearn.preprocessing import StandardScaler\n",
    "from sklearn.linear_model import LogisticRegression\n",
    "from sklearn.svm import SVC\n",
    "from sklearn.tree import DecisionTreeClassifier\n",
    "from sklearn.ensemble import RandomForestClassifier, AdaBoostClassifier\n",
    "from sklearn.metrics import precision_score, recall_score, confusion_matrix\n",
    "import warnings\n",
    "warnings.filterwarnings(\"ignore\")\n"
   ]
  },
  {
   "cell_type": "markdown",
   "id": "3702c8c0",
   "metadata": {},
   "source": [
    "### Ingrese aquí el nombre de los integrantes del grupo\n",
    "- Nombre integrante 1\n",
    "- \n",
    "- \n",
    "- "
   ]
  },
  {
   "cell_type": "markdown",
   "id": "0d074df7",
   "metadata": {},
   "source": [
    "# Descripción del problema y la data\n",
    "La data acompañada corresponde a clientes de una cadena de ropa, y su comportamiento con respecto a campañas de marketing que se le envian.  La `data` contiene 16305 clientes (filas), y 44 *features* (columnas), indicando su número de visitas a la tienda, las ventas, porcentaje de compras en los distintos items, montos gastados en distintos locales de la tienda y en distintos rangos de meses, etc. A estos clientes se les envió una campaña de marketing directa, ante la cual ellos respondieron (`target` = 1) o no lo hicieron (`target`=0).\n",
    "\n",
    "Hacer una campaña de marketing directo a estos clientes puede tener un impacto importante en las ventas. Se estima que cada cliente que responde a estas campañas genera un profit de $\\$28.40$ para la empresa. Sin embargo, hacer estas campañas tiene un costo estimado de $\\$2.00$ por cliente.  Es por esto, que la empresa desea identificar correctamente aquellos clientes que son mas proclives a responder a este tipo de campaña de marketing.\n",
    "\n",
    "El objetivo de este trabajo entonces es construir un **modelo de clasificación**, que permita predecir si un cliente va a responder o no a una campaña de marketing.\n",
    "\n",
    "\n",
    "\n",
    "Para esto:\n",
    "- Decida si utilizará todos los features o no. Puede eliminar features, o agregar nuevos si lo desea.  Explique en este documento lo que hizo al respecto.\n",
    "- Transforme la data si es necesario. Note que los features tienen distintas escalas (por ejemplo, algunos son binarios (0,1), otros son porcentajes [0-1], otros son días [0-365], y otros montos gastados [0-22511].  Explicite **claramente** la o las transformaciones necesarias a la data. Su modelo será evaluado con nueva data, por lo que es necesario tener claro las transformaciones necesarias para poder aplicarlo. \n",
    "- Escoga una (o más de una) métrica que utilizará para poder evaluar el performance de sus modelos. Indique cuál será la métrica prioritaria para su evaluación, y el por qué de esta decisión.\n",
    "- Escoga entre al menos 3 modelos de clasificación estudiados en el curso. Para cada uno de ellos, realice una optimización de hiper-parámetros, para escoger los mejores parámetros para cada uno de ellos.  **Atención**: al menos unos de estos tres modelos debe poder ser interpretable.\n",
    "- Compare estos tres (o mas) modelos escogidos (con los mejores parámetros que optimizó) entre ellos, usando cross-validation.  Decida cuál es el mejor modelo para usted. **Agregue este modelo al final de este documento** (ver ejemplo).\n",
    "- Utilice el mejor modelo obtenido pero que tenga capacidad de interpretación de los resultados, y analice este mismo. ¿Cuáles son las características o features más importantes para que un cliente responda positivamente a una campaña de márketing directo?"
   ]
  },
  {
   "cell_type": "code",
   "execution_count": 5,
   "id": "a48d122b",
   "metadata": {},
   "outputs": [],
   "source": [
    "\n",
    "def one_hot_encoder(df):\n",
    "  \"\"\"\n",
    "  DOCSTRING\n",
    "  \"\"\"\n",
    "  chunks = []\n",
    "  chunks.append(df)\n",
    "  bool_cols = df.select_dtypes(include= [bool]).columns\n",
    "  \n",
    "  for col in bool_cols:\n",
    "    chunk = pd.get_dummies(data[col], prefix=col)\n",
    "    chunks.append(chunk)\n",
    "  \n",
    "  df = pd.concat(chunks, axis= 1)\n",
    "  df.drop(bool_cols, axis= 1, inplace= True)\n",
    "  \n",
    "\n",
    "  return df\n",
    "\n",
    "\n",
    "\n",
    "def get_best_features(X, y, models, cv):\n",
    "  \n",
    "  \n",
    "  my_custom_score = make_scorer(my_scorer, greater_is_better=True)\n",
    "\n",
    "  for model in models:\n",
    "    \n",
    "    pipeline = Pipeline([('ss', StandardScaler()),\n",
    "                    ('', model())])\n",
    "\n",
    "    gs = GridSearchCV(\n",
    "                      pipeline,\n",
    "                      param_grid=[models[model]],\n",
    "                      scoring= my_custom_score,\n",
    "                      cv=cv\n",
    "    )\n",
    "    \n",
    "    gs.fit(X, y)\n",
    "    \n",
    "    print(f'model: {model.__name__}')\n",
    "    print(f'\\t best params: {gs.best_params_}')\n",
    "    print(f'\\t utilidad de la muestra: {gs.best_score_}')\n",
    "  \n",
    "  return \n",
    "\n",
    "\n",
    "\n",
    "def my_scorer(y_true, y_predicted):\n",
    "  try:\n",
    "    tn, fp, fn, tp = confusion_matrix(y_true, y_predicted).ravel()\n",
    "    return (tp * 28.4) - (fp * 2)\n",
    "  except:\n",
    "    return 0\n",
    "\n",
    "    \n"
   ]
  },
  {
   "cell_type": "code",
   "execution_count": 7,
   "id": "b8d75486",
   "metadata": {},
   "outputs": [
    {
     "data": {
      "text/plain": [
       "(16305, 47)"
      ]
     },
     "execution_count": 7,
     "metadata": {},
     "output_type": "execute_result"
    }
   ],
   "source": [
    "# Carga de Data\n",
    "data = pd.read_csv('Clothstore_data.csv')\n",
    "target = pd.read_csv('Clothstore_target.csv')\n",
    "features  = one_hot_encoder(data)\n",
    "features.shape"
   ]
  },
  {
   "cell_type": "code",
   "execution_count": 9,
   "id": "018f3893",
   "metadata": {},
   "outputs": [
    {
     "name": "stdout",
     "output_type": "stream",
     "text": [
      "model: RandomForestClassifier\n",
      "\t best params: {'__class_weight': 'balanced', '__max_depth': 5, '__min_samples_split': 2, '__n_estimators': 30}\n",
      "\t utilidad de la muestra: 16567.066666666666\n",
      "model: SVC\n",
      "\t best params: {'__C': 10, '__class_weight': 'balanced', '__kernel': 'linear'}\n",
      "\t utilidad de la muestra: 19094.8\n",
      "model: KNeighborsClassifier\n",
      "\t best params: {'__n_neighbors': 5}\n",
      "\t utilidad de la muestra: 5708.933333333333\n"
     ]
    }
   ],
   "source": [
    "params = {\n",
    "  RandomForestClassifier:{\n",
    "    '__n_estimators': [30,50,100,150,200],\n",
    "    '__max_depth':[5,7,10],\n",
    "    '__min_samples_split': [2,5],\n",
    "    '__class_weight': ['balanced_subsample', 'balanced']\n",
    "    },\n",
    "  SVC: {\n",
    "    '__class_weight':['balanced'],\n",
    "    '__kernel':['rbf','linear'],\n",
    "    '__C':[0.1,1,10]\n",
    "  },\n",
    "  KNeighborsClassifier:{\n",
    "    '__n_neighbors': [4,5,7,10]\n",
    "  }\n",
    "}\n",
    "\n",
    "get_best_features(features,target, params, 3)\n"
   ]
  },
  {
   "cell_type": "code",
   "execution_count": null,
   "id": "e017fd2b",
   "metadata": {},
   "outputs": [],
   "source": [
    "# best_params = {'max_depth': 5, 'min_samples_split': 5, 'n_estimators': 200, 'class_weight':'balanced'}\n",
    "\n",
    "# rf = RandomForestClassifier()\n",
    "# rf.set_params(**best_params)\n",
    "# rf.fit(features, target)\n",
    "# temp_df = list(zip(features.columns, rf.feature_importances_))\n",
    "# temp_df = pd.DataFrame(temp_df, columns =['Feature', 'Importance'])\n",
    "# top_feature_importance = temp_df.sort_values(by= 'Importance', ascending= False).iloc[0:20,[0]]\n",
    "# top_feature_importance = list(top_feature_importance[\"Feature\"])\n",
    "# top_feature_importance"
   ]
  },
  {
   "cell_type": "code",
   "execution_count": null,
   "id": "19672f85",
   "metadata": {},
   "outputs": [],
   "source": [
    "# params = {\n",
    "#   RandomForestClassifier:{\n",
    "#     '__n_estimators': [10,15,20,25,30,50,100,200,300],\n",
    "#     '__max_depth':[5,7,10,15,20,30,50,100,200],\n",
    "#     '__min_samples_split': [2, 5, 7, 10],\n",
    "#     '__class_weight':['balanced','balanced_subsample']\n",
    "#     },\n",
    "#   SVC : {\n",
    "#     '__C': [0.1, 1, 10, 20, 50, 100, 1000],\n",
    "#     '__gamma': [1, 0.1, 0.01, 0.001, 0.0001],\n",
    "#     '__kernel': ['rbf']\n",
    "#     },\n",
    "#   KNeighborsClassifier : {\n",
    "#     '__n_neighbors': [2,3,4,5,6,7,9,9,10]\n",
    "#     }\n",
    "# }\n",
    "\n",
    "# get_best_features(features[top_feature_importance],target, params, 3)\n"
   ]
  },
  {
   "cell_type": "code",
   "execution_count": 26,
   "id": "abcfe863",
   "metadata": {},
   "outputs": [
    {
     "name": "stdout",
     "output_type": "stream",
     "text": [
      "avg for f1 is: 0.47409240043606626\n",
      "std for f1 is: 0.01809936823726951\n",
      "avg for precision is: 0.3257434984610597\n",
      "std for precision is: 0.01663275512432511\n",
      "avg for recall is: 0.8721831165687544\n",
      "std for recall is: 0.017119383019377942\n",
      "avg for utilidad_muestra is: 5730.48\n",
      "std for utilidad_muestra is: 413.949768289181\n"
     ]
    }
   ],
   "source": [
    "\n",
    "# Mejor modelo\n",
    "best_params =  {'C': 10, 'class_weight': 'balanced', 'kernel': 'linear'}\n",
    "\n",
    "model = SVC()\n",
    "\n",
    "kf = KFold(n_splits= 10, shuffle = True)\n",
    "\n",
    "results = {\n",
    "  'f1':[],\n",
    "  'precision':[],\n",
    "  'recall': [],\n",
    "  'utilidad_muestra':[]\n",
    "}\n",
    "\n",
    "\n",
    "for train, test in kf.split(features):\n",
    "  \n",
    "  features_selected = features\n",
    "  \n",
    "  #scaler = StandardScaler()\n",
    "  scaler = MinMaxScaler()\n",
    "  scaler.fit(features_selected.iloc[train,:])\n",
    "  \n",
    "  clf = model\n",
    "  clf.set_params(**best_params)\n",
    "  clf.fit(scaler.transform(features_selected.iloc[train,:]), target.iloc[train,:])\n",
    "  preds = clf.predict(scaler.transform(features_selected.iloc[test,:]))\n",
    "  \n",
    "  results['f1'].append(f1_score(target.iloc[test,:], preds))\n",
    "  results['precision'].append(precision_score(target.iloc[test,:], preds))\n",
    "  results['recall'].append(recall_score(target.iloc[test,:], preds))\n",
    "  results['utilidad_muestra'].append(my_scorer(target.iloc[test,:], preds))\n",
    "\n",
    "results = pd.DataFrame(results)\n",
    "\n",
    "for col in results:\n",
    "  print(f'avg for {col} is: {results[col].mean()}')\n",
    "  print(f'std for {col} is: {results[col].std()}')\n",
    "\n",
    "\n"
   ]
  },
  {
   "cell_type": "code",
   "execution_count": 27,
   "id": "0166e36b",
   "metadata": {},
   "outputs": [
    {
     "name": "stdout",
     "output_type": "stream",
     "text": [
      "Escenario base: 49713.2\n",
      "Resultados SVM: 65243.58825229151\n"
     ]
    }
   ],
   "source": [
    "print(f'Escenario base: {(2708 * 28.4) - (16305-2708) * 2}')\n",
    "print('Resultados SVM:',((2708 * pd.Series(results['recall']).mean()) * 28.4) - ((16305-2708)*(1- pd.Series(results['precision']).mean()))*0.2)\n"
   ]
  },
  {
   "cell_type": "code",
   "execution_count": 28,
   "id": "fffb0d1a",
   "metadata": {},
   "outputs": [
    {
     "name": "stdout",
     "output_type": "stream",
     "text": [
      "avg for f1 is: 0.4871006494553396\n",
      "std for f1 is: 0.012800071791439988\n",
      "avg for precision is: 0.36553031700658234\n",
      "std for precision is: 0.01258466638416254\n",
      "avg for recall is: 0.7306193486570745\n",
      "std for recall is: 0.02194289292975946\n",
      "avg for utilidad_muestra is: 4928.68\n",
      "std for utilidad_muestra is: 290.8084088651265\n"
     ]
    }
   ],
   "source": [
    "\n",
    "# Mejor modelo interpretable\n",
    "best_params =  {'class_weight': 'balanced', 'max_depth': 5, 'min_samples_split': 2, 'n_estimators': 30}\n",
    "\n",
    "model = RandomForestClassifier()\n",
    "\n",
    "kf = KFold(n_splits= 10, shuffle = True)\n",
    "\n",
    "results = {\n",
    "  'f1':[],\n",
    "  'precision':[],\n",
    "  'recall': [],\n",
    "  'utilidad_muestra':[]\n",
    "}\n",
    "\n",
    "\n",
    "for train, test in kf.split(features):\n",
    "  \n",
    "  features_selected = features\n",
    "  \n",
    "  #scaler = StandardScaler()\n",
    "  scaler = MinMaxScaler()\n",
    "  scaler.fit(features_selected.iloc[train,:])\n",
    "  \n",
    "  clf = model\n",
    "  clf.set_params(**best_params)\n",
    "  clf.fit(scaler.transform(features_selected.iloc[train,:]), target.iloc[train,:])\n",
    "  preds = clf.predict(scaler.transform(features_selected.iloc[test,:]))\n",
    "  \n",
    "  results['f1'].append(f1_score(target.iloc[test,:], preds))\n",
    "  results['precision'].append(precision_score(target.iloc[test,:], preds))\n",
    "  results['recall'].append(recall_score(target.iloc[test,:], preds))\n",
    "  results['utilidad_muestra'].append(my_scorer(target.iloc[test,:], preds))\n",
    "\n",
    "results = pd.DataFrame(results)\n",
    "\n",
    "for col in results:\n",
    "  print(f'avg for {col} is: {results[col].mean()}')\n",
    "  print(f'std for {col} is: {results[col].std()}')\n"
   ]
  },
  {
   "cell_type": "code",
   "execution_count": 29,
   "id": "53da5b07",
   "metadata": {},
   "outputs": [
    {
     "name": "stdout",
     "output_type": "stream",
     "text": [
      "Escenario base: 49713.2\n",
      "Resultados Random Forest: 54464.51151510705\n"
     ]
    }
   ],
   "source": [
    "print(f'Escenario base: {(2708 * 28.4) - (16305-2708) * 2}')\n",
    "print('Resultados Random Forest:',((2708 * pd.Series(results['recall']).mean()) * 28.4) - ((16305-2708)*(1- pd.Series(results['precision']).mean()))*0.2)\n"
   ]
  },
  {
   "cell_type": "code",
   "execution_count": 37,
   "id": "e7cd39e3",
   "metadata": {},
   "outputs": [
    {
     "data": {
      "application/vnd.plotly.v1+json": {
       "config": {
        "plotlyServerURL": "https://plot.ly"
       },
       "data": [
        {
         "alignmentgroup": "True",
         "hovertemplate": "Feature=%{x}<br>Importance=%{y}<extra></extra>",
         "legendgroup": "",
         "marker": {
          "color": "#636efa"
         },
         "name": "",
         "offsetgroup": "",
         "orientation": "v",
         "showlegend": false,
         "textposition": "auto",
         "type": "bar",
         "x": [
          "num_days_between_purchases_lifetime",
          "num_visits_customer",
          "num_individual_items_purchased",
          "num_diff_product_classes",
          "num_days_between_purchases",
          "total_net_sales",
          "promotions_pct_responded",
          "product_uniformity",
          "pct_returns_products",
          "promotions_num_responded",
          "is_cc_user_True",
          "ammount_spend_past_3months",
          "num_cupons_used",
          "num_days_customer",
          "is_cc_user_False",
          "ammount_spend_past_6months",
          "ammount_spend_past_month",
          "pct_spent_blouses",
          "avg_net_sales_per_visit",
          "num_mkt_promotions",
          "promotions_num_mailed",
          "ammount_spend_store_3",
          "ammount_spend_last_year_same_period",
          "num_stores_shopped",
          "is_web_shopper_True",
          "markdown",
          "pct_spent_jackets",
          "is_web_shopper_False",
          "pct_spent_sweaters",
          "gross margin percentage",
          "ammount_spend_store_4",
          "pct_spent_casual_pants",
          "pct_spent_knit_dresses",
          "pct_spent_fashion",
          "pct_spent_knit_tops",
          "pct_spent_collectibles",
          "has_valid_phone_False",
          "ammount_spend_store_2",
          "pct_spent_suits",
          "has_valid_phone_True",
          "pct_spent_dresses",
          "pct_spent_career_pants",
          "pct_spent_shirts",
          "pct_spent_jewelry",
          "pct_spent_legwear",
          "pct_spent_outwear",
          "ammount_spend_store_1"
         ],
         "xaxis": "x",
         "y": [
          0.21129952574433958,
          0.14131895953766227,
          0.11418055142339721,
          0.07445613083223904,
          0.0664307477540746,
          0.058043988205962356,
          0.043984484945485854,
          0.03844245907833168,
          0.02760895008490928,
          0.02685278999405519,
          0.026493643400830543,
          0.026165448220631805,
          0.020856587016330145,
          0.01886171062547571,
          0.018026673966822847,
          0.013726591006998882,
          0.010669575328392836,
          0.008566794527791712,
          0.007274514320451866,
          0.004907602464457056,
          0.004767280947480284,
          0.003613780398489579,
          0.0026614893657411474,
          0.0025779155778135137,
          0.0025211633267445102,
          0.00238585381713329,
          0.0021937685075416177,
          0.0020474925653488994,
          0.0018756748225311093,
          0.0017868031058278706,
          0.0015515974360603229,
          0.0014983171434250456,
          0.0014126208399967536,
          0.0013773981787146047,
          0.001321811230082666,
          0.0011844905293189691,
          0.0011533837324566505,
          0.0010846993323526052,
          0.0010716040118059357,
          0.000958957292703401,
          0.0008465665864841892,
          0.0005459898187903211,
          0.0004946191447495244,
          0.0004451028967802442,
          0.0004034248739106501,
          0.00005046603907582715,
          4.085551892690839e-17
         ],
         "yaxis": "y"
        }
       ],
       "layout": {
        "barmode": "relative",
        "legend": {
         "tracegroupgap": 0
        },
        "margin": {
         "t": 60
        },
        "template": {
         "data": {
          "bar": [
           {
            "error_x": {
             "color": "#2a3f5f"
            },
            "error_y": {
             "color": "#2a3f5f"
            },
            "marker": {
             "line": {
              "color": "#E5ECF6",
              "width": 0.5
             }
            },
            "type": "bar"
           }
          ],
          "barpolar": [
           {
            "marker": {
             "line": {
              "color": "#E5ECF6",
              "width": 0.5
             }
            },
            "type": "barpolar"
           }
          ],
          "carpet": [
           {
            "aaxis": {
             "endlinecolor": "#2a3f5f",
             "gridcolor": "white",
             "linecolor": "white",
             "minorgridcolor": "white",
             "startlinecolor": "#2a3f5f"
            },
            "baxis": {
             "endlinecolor": "#2a3f5f",
             "gridcolor": "white",
             "linecolor": "white",
             "minorgridcolor": "white",
             "startlinecolor": "#2a3f5f"
            },
            "type": "carpet"
           }
          ],
          "choropleth": [
           {
            "colorbar": {
             "outlinewidth": 0,
             "ticks": ""
            },
            "type": "choropleth"
           }
          ],
          "contour": [
           {
            "colorbar": {
             "outlinewidth": 0,
             "ticks": ""
            },
            "colorscale": [
             [
              0,
              "#0d0887"
             ],
             [
              0.1111111111111111,
              "#46039f"
             ],
             [
              0.2222222222222222,
              "#7201a8"
             ],
             [
              0.3333333333333333,
              "#9c179e"
             ],
             [
              0.4444444444444444,
              "#bd3786"
             ],
             [
              0.5555555555555556,
              "#d8576b"
             ],
             [
              0.6666666666666666,
              "#ed7953"
             ],
             [
              0.7777777777777778,
              "#fb9f3a"
             ],
             [
              0.8888888888888888,
              "#fdca26"
             ],
             [
              1,
              "#f0f921"
             ]
            ],
            "type": "contour"
           }
          ],
          "contourcarpet": [
           {
            "colorbar": {
             "outlinewidth": 0,
             "ticks": ""
            },
            "type": "contourcarpet"
           }
          ],
          "heatmap": [
           {
            "colorbar": {
             "outlinewidth": 0,
             "ticks": ""
            },
            "colorscale": [
             [
              0,
              "#0d0887"
             ],
             [
              0.1111111111111111,
              "#46039f"
             ],
             [
              0.2222222222222222,
              "#7201a8"
             ],
             [
              0.3333333333333333,
              "#9c179e"
             ],
             [
              0.4444444444444444,
              "#bd3786"
             ],
             [
              0.5555555555555556,
              "#d8576b"
             ],
             [
              0.6666666666666666,
              "#ed7953"
             ],
             [
              0.7777777777777778,
              "#fb9f3a"
             ],
             [
              0.8888888888888888,
              "#fdca26"
             ],
             [
              1,
              "#f0f921"
             ]
            ],
            "type": "heatmap"
           }
          ],
          "heatmapgl": [
           {
            "colorbar": {
             "outlinewidth": 0,
             "ticks": ""
            },
            "colorscale": [
             [
              0,
              "#0d0887"
             ],
             [
              0.1111111111111111,
              "#46039f"
             ],
             [
              0.2222222222222222,
              "#7201a8"
             ],
             [
              0.3333333333333333,
              "#9c179e"
             ],
             [
              0.4444444444444444,
              "#bd3786"
             ],
             [
              0.5555555555555556,
              "#d8576b"
             ],
             [
              0.6666666666666666,
              "#ed7953"
             ],
             [
              0.7777777777777778,
              "#fb9f3a"
             ],
             [
              0.8888888888888888,
              "#fdca26"
             ],
             [
              1,
              "#f0f921"
             ]
            ],
            "type": "heatmapgl"
           }
          ],
          "histogram": [
           {
            "marker": {
             "colorbar": {
              "outlinewidth": 0,
              "ticks": ""
             }
            },
            "type": "histogram"
           }
          ],
          "histogram2d": [
           {
            "colorbar": {
             "outlinewidth": 0,
             "ticks": ""
            },
            "colorscale": [
             [
              0,
              "#0d0887"
             ],
             [
              0.1111111111111111,
              "#46039f"
             ],
             [
              0.2222222222222222,
              "#7201a8"
             ],
             [
              0.3333333333333333,
              "#9c179e"
             ],
             [
              0.4444444444444444,
              "#bd3786"
             ],
             [
              0.5555555555555556,
              "#d8576b"
             ],
             [
              0.6666666666666666,
              "#ed7953"
             ],
             [
              0.7777777777777778,
              "#fb9f3a"
             ],
             [
              0.8888888888888888,
              "#fdca26"
             ],
             [
              1,
              "#f0f921"
             ]
            ],
            "type": "histogram2d"
           }
          ],
          "histogram2dcontour": [
           {
            "colorbar": {
             "outlinewidth": 0,
             "ticks": ""
            },
            "colorscale": [
             [
              0,
              "#0d0887"
             ],
             [
              0.1111111111111111,
              "#46039f"
             ],
             [
              0.2222222222222222,
              "#7201a8"
             ],
             [
              0.3333333333333333,
              "#9c179e"
             ],
             [
              0.4444444444444444,
              "#bd3786"
             ],
             [
              0.5555555555555556,
              "#d8576b"
             ],
             [
              0.6666666666666666,
              "#ed7953"
             ],
             [
              0.7777777777777778,
              "#fb9f3a"
             ],
             [
              0.8888888888888888,
              "#fdca26"
             ],
             [
              1,
              "#f0f921"
             ]
            ],
            "type": "histogram2dcontour"
           }
          ],
          "mesh3d": [
           {
            "colorbar": {
             "outlinewidth": 0,
             "ticks": ""
            },
            "type": "mesh3d"
           }
          ],
          "parcoords": [
           {
            "line": {
             "colorbar": {
              "outlinewidth": 0,
              "ticks": ""
             }
            },
            "type": "parcoords"
           }
          ],
          "pie": [
           {
            "automargin": true,
            "type": "pie"
           }
          ],
          "scatter": [
           {
            "marker": {
             "colorbar": {
              "outlinewidth": 0,
              "ticks": ""
             }
            },
            "type": "scatter"
           }
          ],
          "scatter3d": [
           {
            "line": {
             "colorbar": {
              "outlinewidth": 0,
              "ticks": ""
             }
            },
            "marker": {
             "colorbar": {
              "outlinewidth": 0,
              "ticks": ""
             }
            },
            "type": "scatter3d"
           }
          ],
          "scattercarpet": [
           {
            "marker": {
             "colorbar": {
              "outlinewidth": 0,
              "ticks": ""
             }
            },
            "type": "scattercarpet"
           }
          ],
          "scattergeo": [
           {
            "marker": {
             "colorbar": {
              "outlinewidth": 0,
              "ticks": ""
             }
            },
            "type": "scattergeo"
           }
          ],
          "scattergl": [
           {
            "marker": {
             "colorbar": {
              "outlinewidth": 0,
              "ticks": ""
             }
            },
            "type": "scattergl"
           }
          ],
          "scattermapbox": [
           {
            "marker": {
             "colorbar": {
              "outlinewidth": 0,
              "ticks": ""
             }
            },
            "type": "scattermapbox"
           }
          ],
          "scatterpolar": [
           {
            "marker": {
             "colorbar": {
              "outlinewidth": 0,
              "ticks": ""
             }
            },
            "type": "scatterpolar"
           }
          ],
          "scatterpolargl": [
           {
            "marker": {
             "colorbar": {
              "outlinewidth": 0,
              "ticks": ""
             }
            },
            "type": "scatterpolargl"
           }
          ],
          "scatterternary": [
           {
            "marker": {
             "colorbar": {
              "outlinewidth": 0,
              "ticks": ""
             }
            },
            "type": "scatterternary"
           }
          ],
          "surface": [
           {
            "colorbar": {
             "outlinewidth": 0,
             "ticks": ""
            },
            "colorscale": [
             [
              0,
              "#0d0887"
             ],
             [
              0.1111111111111111,
              "#46039f"
             ],
             [
              0.2222222222222222,
              "#7201a8"
             ],
             [
              0.3333333333333333,
              "#9c179e"
             ],
             [
              0.4444444444444444,
              "#bd3786"
             ],
             [
              0.5555555555555556,
              "#d8576b"
             ],
             [
              0.6666666666666666,
              "#ed7953"
             ],
             [
              0.7777777777777778,
              "#fb9f3a"
             ],
             [
              0.8888888888888888,
              "#fdca26"
             ],
             [
              1,
              "#f0f921"
             ]
            ],
            "type": "surface"
           }
          ],
          "table": [
           {
            "cells": {
             "fill": {
              "color": "#EBF0F8"
             },
             "line": {
              "color": "white"
             }
            },
            "header": {
             "fill": {
              "color": "#C8D4E3"
             },
             "line": {
              "color": "white"
             }
            },
            "type": "table"
           }
          ]
         },
         "layout": {
          "annotationdefaults": {
           "arrowcolor": "#2a3f5f",
           "arrowhead": 0,
           "arrowwidth": 1
          },
          "autotypenumbers": "strict",
          "coloraxis": {
           "colorbar": {
            "outlinewidth": 0,
            "ticks": ""
           }
          },
          "colorscale": {
           "diverging": [
            [
             0,
             "#8e0152"
            ],
            [
             0.1,
             "#c51b7d"
            ],
            [
             0.2,
             "#de77ae"
            ],
            [
             0.3,
             "#f1b6da"
            ],
            [
             0.4,
             "#fde0ef"
            ],
            [
             0.5,
             "#f7f7f7"
            ],
            [
             0.6,
             "#e6f5d0"
            ],
            [
             0.7,
             "#b8e186"
            ],
            [
             0.8,
             "#7fbc41"
            ],
            [
             0.9,
             "#4d9221"
            ],
            [
             1,
             "#276419"
            ]
           ],
           "sequential": [
            [
             0,
             "#0d0887"
            ],
            [
             0.1111111111111111,
             "#46039f"
            ],
            [
             0.2222222222222222,
             "#7201a8"
            ],
            [
             0.3333333333333333,
             "#9c179e"
            ],
            [
             0.4444444444444444,
             "#bd3786"
            ],
            [
             0.5555555555555556,
             "#d8576b"
            ],
            [
             0.6666666666666666,
             "#ed7953"
            ],
            [
             0.7777777777777778,
             "#fb9f3a"
            ],
            [
             0.8888888888888888,
             "#fdca26"
            ],
            [
             1,
             "#f0f921"
            ]
           ],
           "sequentialminus": [
            [
             0,
             "#0d0887"
            ],
            [
             0.1111111111111111,
             "#46039f"
            ],
            [
             0.2222222222222222,
             "#7201a8"
            ],
            [
             0.3333333333333333,
             "#9c179e"
            ],
            [
             0.4444444444444444,
             "#bd3786"
            ],
            [
             0.5555555555555556,
             "#d8576b"
            ],
            [
             0.6666666666666666,
             "#ed7953"
            ],
            [
             0.7777777777777778,
             "#fb9f3a"
            ],
            [
             0.8888888888888888,
             "#fdca26"
            ],
            [
             1,
             "#f0f921"
            ]
           ]
          },
          "colorway": [
           "#636efa",
           "#EF553B",
           "#00cc96",
           "#ab63fa",
           "#FFA15A",
           "#19d3f3",
           "#FF6692",
           "#B6E880",
           "#FF97FF",
           "#FECB52"
          ],
          "font": {
           "color": "#2a3f5f"
          },
          "geo": {
           "bgcolor": "white",
           "lakecolor": "white",
           "landcolor": "#E5ECF6",
           "showlakes": true,
           "showland": true,
           "subunitcolor": "white"
          },
          "hoverlabel": {
           "align": "left"
          },
          "hovermode": "closest",
          "mapbox": {
           "style": "light"
          },
          "paper_bgcolor": "white",
          "plot_bgcolor": "#E5ECF6",
          "polar": {
           "angularaxis": {
            "gridcolor": "white",
            "linecolor": "white",
            "ticks": ""
           },
           "bgcolor": "#E5ECF6",
           "radialaxis": {
            "gridcolor": "white",
            "linecolor": "white",
            "ticks": ""
           }
          },
          "scene": {
           "xaxis": {
            "backgroundcolor": "#E5ECF6",
            "gridcolor": "white",
            "gridwidth": 2,
            "linecolor": "white",
            "showbackground": true,
            "ticks": "",
            "zerolinecolor": "white"
           },
           "yaxis": {
            "backgroundcolor": "#E5ECF6",
            "gridcolor": "white",
            "gridwidth": 2,
            "linecolor": "white",
            "showbackground": true,
            "ticks": "",
            "zerolinecolor": "white"
           },
           "zaxis": {
            "backgroundcolor": "#E5ECF6",
            "gridcolor": "white",
            "gridwidth": 2,
            "linecolor": "white",
            "showbackground": true,
            "ticks": "",
            "zerolinecolor": "white"
           }
          },
          "shapedefaults": {
           "line": {
            "color": "#2a3f5f"
           }
          },
          "ternary": {
           "aaxis": {
            "gridcolor": "white",
            "linecolor": "white",
            "ticks": ""
           },
           "baxis": {
            "gridcolor": "white",
            "linecolor": "white",
            "ticks": ""
           },
           "bgcolor": "#E5ECF6",
           "caxis": {
            "gridcolor": "white",
            "linecolor": "white",
            "ticks": ""
           }
          },
          "title": {
           "x": 0.05
          },
          "xaxis": {
           "automargin": true,
           "gridcolor": "white",
           "linecolor": "white",
           "ticks": "",
           "title": {
            "standoff": 15
           },
           "zerolinecolor": "white",
           "zerolinewidth": 2
          },
          "yaxis": {
           "automargin": true,
           "gridcolor": "white",
           "linecolor": "white",
           "ticks": "",
           "title": {
            "standoff": 15
           },
           "zerolinecolor": "white",
           "zerolinewidth": 2
          }
         }
        },
        "xaxis": {
         "anchor": "y",
         "domain": [
          0,
          1
         ],
         "title": {
          "text": "Feature"
         }
        },
        "yaxis": {
         "anchor": "x",
         "domain": [
          0,
          1
         ],
         "title": {
          "text": "Importance"
         }
        }
       }
      }
     },
     "metadata": {},
     "output_type": "display_data"
    }
   ],
   "source": [
    "best_params =  {'class_weight': 'balanced', 'max_depth': 5, 'min_samples_split': 2, 'n_estimators': 30}\n",
    "\n",
    "rf = RandomForestClassifier()\n",
    "rf.set_params(**best_params)\n",
    "rf.fit(features, target)\n",
    "temp_df = list(zip(features.columns, rf.feature_importances_))\n",
    "temp_df = pd.DataFrame(temp_df, columns =['Feature', 'Importance'])\n",
    "temp_df_sorted = temp_df.sort_values(by= 'Importance', ascending= False)\n",
    "\n",
    "import plotly.express as px\n",
    "fig = px.bar(temp_df_sorted, x='Feature', y='Importance')\n",
    "fig.show()"
   ]
  },
  {
   "cell_type": "markdown",
   "id": "78c4923a",
   "metadata": {},
   "source": [
    "# RESULTADO FINAL MEJOR MODELO\n",
    "En la siguiente celda, escriba el mejor modelo encontrado por usted, de forma que el profesor y su ayudante puedan evaluar el performance de este modelo escogido ante nuevos datos.  Ponga por lo tanto todos los pasos requeridos para poder hacer esto, incluyendo el preprocesing que sea necesario.\n",
    "\n",
    "**Ejemplo**: si el modelo final fuera aplicar KNN con 8-vecinos usando los datos normalizados y sin la columna `has_valid_phone`, entonces debería ser algo así:\n"
   ]
  },
  {
   "cell_type": "code",
   "execution_count": 93,
   "id": "2c53919e",
   "metadata": {},
   "outputs": [
    {
     "data": {
      "text/plain": [
       "65060.07199999999"
      ]
     },
     "execution_count": 93,
     "metadata": {},
     "output_type": "execute_result"
    }
   ],
   "source": [
    "\n",
    "(2708 * 28.4) - (16305-2708) * 2\n",
    "((2708 * 0.87) * 28.4) -   ((16305-2708)*(1-0.32))*0.2\n",
    "\n",
    "\n"
   ]
  }
 ],
 "metadata": {
  "interpreter": {
   "hash": "19feec77328e1f2c69e26c8e4fc17e339574028135dedc21ae8a6cdb2d2341ae"
  },
  "kernelspec": {
   "display_name": "Python 3.8.3 ('base')",
   "language": "python",
   "name": "python3"
  },
  "language_info": {
   "codemirror_mode": {
    "name": "ipython",
    "version": 3
   },
   "file_extension": ".py",
   "mimetype": "text/x-python",
   "name": "python",
   "nbconvert_exporter": "python",
   "pygments_lexer": "ipython3",
   "version": "3.8.3"
  }
 },
 "nbformat": 4,
 "nbformat_minor": 5
}
