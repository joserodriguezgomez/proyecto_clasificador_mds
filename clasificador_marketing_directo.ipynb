{
 "cells": [
  {
   "cell_type": "code",
   "execution_count": null,
   "id": "d353e325",
   "metadata": {},
   "outputs": [],
   "source": [
    "import pandas as pd\n",
    "import numpy as np\n",
    "from plotnine import *\n",
    "\n"
   ]
  },
  {
   "cell_type": "markdown",
   "id": "3702c8c0",
   "metadata": {},
   "source": [
    "### Ingrese aquí el nombre de los integrantes del grupo\n",
    "- Nombre integrante 1\n",
    "- \n",
    "- \n",
    "- "
   ]
  },
  {
   "cell_type": "markdown",
   "id": "0d074df7",
   "metadata": {},
   "source": [
    "# Descripción del problema y la data\n",
    "La data acompañada corresponde a clientes de una cadena de ropa, y su comportamiento con respecto a campañas de marketing que se le envian.  La `data` contiene 16305 clientes (filas), y 44 *features* (columnas), indicando su número de visitas a la tienda, las ventas, porcentaje de compras en los distintos items, montos gastados en distintos locales de la tienda y en distintos rangos de meses, etc. A estos clientes se les envió una campaña de marketing directa, ante la cual ellos respondieron (`target` = 1) o no lo hicieron (`target`=0).\n",
    "\n",
    "Hacer una campaña de marketing directo a estos clientes puede tener un impacto importante en las ventas. Se estima que cada cliente que responde a estas campañas genera un profit de $\\$28.40$ para la empresa. Sin embargo, hacer estas campañas tiene un costo estimado de $\\$2.00$ por cliente.  Es por esto, que la empresa desea identificar correctamente aquellos clientes que son mas proclives a responder a este tipo de campaña de marketing.\n",
    "\n",
    "El objetivo de este trabajo entonces es construir un **modelo de clasificación**, que permita predecir si un cliente va a responder o no a una campaña de marketing.\n",
    "\n",
    "\n",
    "\n",
    "Para esto:\n",
    "- Decida si utilizará todos los features o no. Puede eliminar features, o agregar nuevos si lo desea.  Explique en este documento lo que hizo al respecto.\n",
    "- Transforme la data si es necesario. Note que los features tienen distintas escalas (por ejemplo, algunos son binarios (0,1), otros son porcentajes [0-1], otros son días [0-365], y otros montos gastados [0-22511].  Explicite **claramente** la o las transformaciones necesarias a la data. Su modelo será evaluado con nueva data, por lo que es necesario tener claro las transformaciones necesarias para poder aplicarlo. \n",
    "- Escoga una (o más de una) métrica que utilizará para poder evaluar el performance de sus modelos. Indique cuál será la métrica prioritaria para su evaluación, y el por qué de esta decisión.\n",
    "- Escoga entre al menos 3 modelos de clasificación estudiados en el curso. Para cada uno de ellos, realice una optimización de hiper-parámetros, para escoger los mejores parámetros para cada uno de ellos.  **Atención**: al menos unos de estos tres modelos debe poder ser interpretable.\n",
    "- Compare estos tres (o mas) modelos escogidos (con los mejores parámetros que optimizó) entre ellos, usando cross-validation.  Decida cuál es el mejor modelo para usted. **Agregue este modelo al final de este documento** (ver ejemplo).\n",
    "- Utilice el mejor modelo obtenido pero que tenga capacidad de interpretación de los resultados, y analice este mismo. ¿Cuáles son las características o features más importantes para que un cliente responda positivamente a una campaña de márketing directo?"
   ]
  },
  {
   "cell_type": "code",
   "execution_count": null,
   "id": "31ba9b05",
   "metadata": {},
   "outputs": [],
   "source": [
    "# Carga de Data\n",
    "data = pd.read_csv('Clothstore_data.csv')\n",
    "target = pd.read_csv('Clothstore_target.csv')"
   ]
  },
  {
   "cell_type": "code",
   "execution_count": null,
   "id": "11c8206a",
   "metadata": {},
   "outputs": [],
   "source": [
    "# agregue las celdas que sean necesarias."
   ]
  },
  {
   "cell_type": "code",
   "execution_count": null,
   "id": "a48d122b",
   "metadata": {},
   "outputs": [],
   "source": []
  },
  {
   "cell_type": "markdown",
   "id": "78c4923a",
   "metadata": {},
   "source": [
    "# RESULTADO FINAL MEJOR MODELO\n",
    "En la siguiente celda, escriba el mejor modelo encontrado por usted, de forma que el profesor y su ayudante puedan evaluar el performance de este modelo escogido ante nuevos datos.  Ponga por lo tanto todos los pasos requeridos para poder hacer esto, incluyendo el preprocesing que sea necesario.\n",
    "\n",
    "**Ejemplo**: si el modelo final fuera aplicar KNN con 8-vecinos usando los datos normalizados y sin la columna `has_valid_phone`, entonces debería ser algo así:\n"
   ]
  },
  {
   "cell_type": "code",
   "execution_count": null,
   "id": "4b48d0bd",
   "metadata": {},
   "outputs": [],
   "source": [
    "from sklearn.neighbors import KNeighborsClassifier\n",
    "from sklearn.preprocessing import StandardScaler\n",
    "\n",
    "data = pd.read_csv('Clothstore_data.csv')\n",
    "target = pd.read_csv('Clothstore_target.csv')\n",
    "\n",
    "#Preprocessing data\n",
    "del data['has_valid_phone']\n",
    "scaler = StandardScaler()\n",
    "dataFinal = scaler.fit_transform(data)\n",
    "\n",
    "#Mejor modelo final\n",
    "modelo_final = KNeighborsClassifier(n_neighbors=8)\n",
    "modelo_final.fit(dataFinal, target)"
   ]
  },
  {
   "cell_type": "code",
   "execution_count": null,
   "id": "feeeaaf1",
   "metadata": {},
   "outputs": [],
   "source": []
  }
 ],
 "metadata": {
  "kernelspec": {
   "display_name": "Python3.9",
   "language": "python",
   "name": "python3.9"
  },
  "language_info": {
   "codemirror_mode": {
    "name": "ipython",
    "version": 3
   },
   "file_extension": ".py",
   "mimetype": "text/x-python",
   "name": "python",
   "nbconvert_exporter": "python",
   "pygments_lexer": "ipython3",
   "version": "3.9.12"
  }
 },
 "nbformat": 4,
 "nbformat_minor": 5
}
