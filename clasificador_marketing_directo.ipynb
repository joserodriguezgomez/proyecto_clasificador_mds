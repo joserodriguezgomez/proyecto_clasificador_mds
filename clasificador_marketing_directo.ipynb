{
 "cells": [
  {
   "cell_type": "code",
   "execution_count": 1,
   "id": "d353e325",
   "metadata": {},
   "outputs": [],
   "source": [
    "import pandas as pd\n",
    "import os\n",
    "from plotnine import *\n",
    "from sklearn.pipeline import Pipeline\n",
    "from sklearn.preprocessing import MinMaxScaler\n",
    "from sklearn.model_selection import GridSearchCV\n",
    "from sklearn.neighbors import KNeighborsClassifier\n",
    "from sklearn.metrics import precision_score, recall_score, f1_score\n",
    "from sklearn.model_selection import KFold\n",
    "from sklearn.preprocessing import StandardScaler\n",
    "from sklearn.linear_model import LogisticRegression\n",
    "from sklearn.svm import SVC\n",
    "from sklearn.tree import DecisionTreeClassifier\n",
    "from sklearn.ensemble import RandomForestClassifier, AdaBoostClassifier\n",
    "from sklearn.metrics import precision_score, recall_score, accuracy_score\n",
    "import warnings\n",
    "warnings.filterwarnings(\"ignore\")\n",
    "\n"
   ]
  },
  {
   "cell_type": "markdown",
   "id": "3702c8c0",
   "metadata": {},
   "source": [
    "### Ingrese aquí el nombre de los integrantes del grupo\n",
    "- Nombre integrante 1\n",
    "- \n",
    "- \n",
    "- "
   ]
  },
  {
   "cell_type": "markdown",
   "id": "0d074df7",
   "metadata": {},
   "source": [
    "# Descripción del problema y la data\n",
    "La data acompañada corresponde a clientes de una cadena de ropa, y su comportamiento con respecto a campañas de marketing que se le envian.  La `data` contiene 16305 clientes (filas), y 44 *features* (columnas), indicando su número de visitas a la tienda, las ventas, porcentaje de compras en los distintos items, montos gastados en distintos locales de la tienda y en distintos rangos de meses, etc. A estos clientes se les envió una campaña de marketing directa, ante la cual ellos respondieron (`target` = 1) o no lo hicieron (`target`=0).\n",
    "\n",
    "Hacer una campaña de marketing directo a estos clientes puede tener un impacto importante en las ventas. Se estima que cada cliente que responde a estas campañas genera un profit de $\\$28.40$ para la empresa. Sin embargo, hacer estas campañas tiene un costo estimado de $\\$2.00$ por cliente.  Es por esto, que la empresa desea identificar correctamente aquellos clientes que son mas proclives a responder a este tipo de campaña de marketing.\n",
    "\n",
    "El objetivo de este trabajo entonces es construir un **modelo de clasificación**, que permita predecir si un cliente va a responder o no a una campaña de marketing.\n",
    "\n",
    "\n",
    "\n",
    "Para esto:\n",
    "- Decida si utilizará todos los features o no. Puede eliminar features, o agregar nuevos si lo desea.  Explique en este documento lo que hizo al respecto.\n",
    "- Transforme la data si es necesario. Note que los features tienen distintas escalas (por ejemplo, algunos son binarios (0,1), otros son porcentajes [0-1], otros son días [0-365], y otros montos gastados [0-22511].  Explicite **claramente** la o las transformaciones necesarias a la data. Su modelo será evaluado con nueva data, por lo que es necesario tener claro las transformaciones necesarias para poder aplicarlo. \n",
    "- Escoga una (o más de una) métrica que utilizará para poder evaluar el performance de sus modelos. Indique cuál será la métrica prioritaria para su evaluación, y el por qué de esta decisión.\n",
    "- Escoga entre al menos 3 modelos de clasificación estudiados en el curso. Para cada uno de ellos, realice una optimización de hiper-parámetros, para escoger los mejores parámetros para cada uno de ellos.  **Atención**: al menos unos de estos tres modelos debe poder ser interpretable.\n",
    "- Compare estos tres (o mas) modelos escogidos (con los mejores parámetros que optimizó) entre ellos, usando cross-validation.  Decida cuál es el mejor modelo para usted. **Agregue este modelo al final de este documento** (ver ejemplo).\n",
    "- Utilice el mejor modelo obtenido pero que tenga capacidad de interpretación de los resultados, y analice este mismo. ¿Cuáles son las características o features más importantes para que un cliente responda positivamente a una campaña de márketing directo?"
   ]
  },
  {
   "cell_type": "code",
   "execution_count": 6,
   "id": "a48d122b",
   "metadata": {},
   "outputs": [],
   "source": [
    "\n",
    "def one_hot_encoder(df):\n",
    "  \"\"\"\n",
    "  DOCSTRING\n",
    "  \"\"\"\n",
    "  chunks = []\n",
    "  chunks.append(df)\n",
    "  bool_cols = df.select_dtypes(include= [bool]).columns\n",
    "  \n",
    "  for col in bool_cols:\n",
    "    chunk = pd.get_dummies(data[col], prefix=col)\n",
    "    chunks.append(chunk)\n",
    "  \n",
    "  df = pd.concat(chunks, axis= 1)\n",
    "  df.drop(bool_cols, axis= 1, inplace= True)\n",
    "  \n",
    "\n",
    "  return df\n",
    "\n",
    "\n",
    "\n",
    "def get_best_features(X, y, models, cv):\n",
    "\n",
    "  for model in models:\n",
    "    \n",
    "    pipeline = Pipeline([('ss', StandardScaler()),\n",
    "                    ('', model())])\n",
    "\n",
    "    gs = GridSearchCV(\n",
    "                      pipeline,\n",
    "                      param_grid=[models[model]],\n",
    "                      scoring='f1',\n",
    "                      cv=cv\n",
    "    )\n",
    "    \n",
    "    gs.fit(X, y)\n",
    "    \n",
    "    print(f'model: {model.__name__}')\n",
    "    print(f'\\t best params: {gs.best_params_}')\n",
    "    print(f'\\t best f1 score: {gs.best_score_}')\n",
    "  \n",
    "    return \n",
    "\n"
   ]
  },
  {
   "cell_type": "code",
   "execution_count": 7,
   "id": "b8d75486",
   "metadata": {},
   "outputs": [],
   "source": [
    "# Carga de Data\n",
    "data = pd.read_csv('Clothstore_data.csv')\n",
    "target = pd.read_csv('Clothstore_target.csv')\n",
    "features  = one_hot_encoder(data)"
   ]
  },
  {
   "cell_type": "code",
   "execution_count": 79,
   "id": "018f3893",
   "metadata": {},
   "outputs": [
    {
     "name": "stdout",
     "output_type": "stream",
     "text": [
      "model: RandomForestClassifier\n",
      "\t best params: {'__max_depth': 20, '__min_samples_split': 5, '__n_estimators': 50}\n",
      "\t best f1 score: 0.3857280570333803\n"
     ]
    }
   ],
   "source": [
    "# Determinando mejores variables \n",
    "\n",
    "params = {\n",
    "  RandomForestClassifier:{\n",
    "    '__n_estimators': [10,15,30,50,100,200],\n",
    "    '__max_depth':[5,10,20,50,100,200],\n",
    "    '__min_samples_split': [2, 5, 10]\n",
    "    },\n",
    "  LogisticRegression:{\n",
    "    '__penalty': ['none','l1','l2','elasticnet'],\n",
    "    '__C':[100, 10, 1.0, 0.1, 0.01]\n",
    "    }\n",
    "}\n",
    "\n",
    "\n",
    "get_best_features(features,target, params, 3)"
   ]
  },
  {
   "cell_type": "code",
   "execution_count": 8,
   "id": "e017fd2b",
   "metadata": {},
   "outputs": [
    {
     "data": {
      "text/plain": [
       "['num_days_between_purchases_lifetime',\n",
       " 'num_visits_customer',\n",
       " 'num_days_between_purchases',\n",
       " 'num_individual_items_purchased',\n",
       " 'total_net_sales',\n",
       " 'product_uniformity',\n",
       " 'num_days_customer',\n",
       " 'avg_net_sales_per_visit',\n",
       " 'ammount_spend_past_6months',\n",
       " 'ammount_spend_store_3']"
      ]
     },
     "execution_count": 8,
     "metadata": {},
     "output_type": "execute_result"
    }
   ],
   "source": [
    "best_params = {'max_depth': 20, 'min_samples_split': 5, 'n_estimators': 50}\n",
    "\n",
    "rf = RandomForestClassifier()\n",
    "rf.set_params(**best_params)\n",
    "rf.fit(features, target)\n",
    "temp_df = list(zip(features.columns, rf.feature_importances_))\n",
    "temp_df = pd.DataFrame(temp_df, columns =['Feature', 'Importance'])\n",
    "top_feature_importance = temp_df.sort_values(by= 'Importance', ascending= False).iloc[0:10,[0]]\n",
    "top_feature_importance = list(top_feature_importance[\"Feature\"])\n",
    "top_feature_importance"
   ]
  },
  {
   "cell_type": "code",
   "execution_count": 18,
   "id": "19672f85",
   "metadata": {},
   "outputs": [
    {
     "name": "stdout",
     "output_type": "stream",
     "text": [
      "model: RandomForestClassifier\n",
      "\t best params: {'__max_depth': 200, '__min_samples_split': 10, '__n_estimators': 15}\n",
      "\t best f1 score: 0.4166670490753875\n"
     ]
    }
   ],
   "source": [
    "params = {\n",
    "  RandomForestClassifier:{\n",
    "    '__n_estimators': [10,15,30,50,100,200],\n",
    "    '__max_depth':[5,10,20,50,100,200],\n",
    "    '__min_samples_split': [2, 5, 10]\n",
    "    },\n",
    "  SVC : {\n",
    "    '__C': [0.1, 1, 10, 100, 1000],\n",
    "    '__gamma': [1, 0.1, 0.01, 0.001, 0.0001],\n",
    "    '__kernel': ['rbf']\n",
    "    },\n",
    "  KNeighborsClassifier : {\n",
    "    '__n_neighbors': [2,3,4,5,6,7,9,9,10,15]\n",
    "    },\n",
    "  AdaBoostClassifier:{\n",
    "    'clf__n_estimators': [20, 50, 70, 100],\n",
    "    'clf__learning_rate' : [0.0001, 0.001, 0.01, 0.1, 0.2, 0.3]\n",
    "  }\n",
    "}\n",
    "\n",
    "get_best_features(features[top_feature_importance],target, params, 3)\n"
   ]
  },
  {
   "cell_type": "code",
   "execution_count": 20,
   "id": "abcfe863",
   "metadata": {},
   "outputs": [
    {
     "name": "stdout",
     "output_type": "stream",
     "text": [
      "avg for f1 is: 0.4071825460863555\n",
      "std for f1 is: 0.022532113567447085\n",
      "avg for precision is: 0.5921327830822491\n",
      "std for precision is: 0.044465625521593055\n",
      "avg for recall is: 0.3109809421272708\n",
      "std for recall is: 0.020613753209680133\n"
     ]
    }
   ],
   "source": [
    "# cross validation\n",
    "\n",
    "best_params = {'max_depth': 200, 'min_samples_split': 10, 'n_estimators': 15}\n",
    "\n",
    "kf = KFold(n_splits= 5)\n",
    "\n",
    "\n",
    "results = {\n",
    "  'f1':[],\n",
    "  'precision':[],\n",
    "  'recall': []\n",
    "}\n",
    "\n",
    "for train, test in kf.split(features):\n",
    "  \n",
    "  features_selected = features[top_feature_importance]\n",
    "  \n",
    "  scaler = StandardScaler()\n",
    "  scaler.fit(features_selected.iloc[train,:])\n",
    "  \n",
    "  clf = RandomForestClassifier()\n",
    "  clf.set_params(**best_params)\n",
    "  clf.fit(scaler.transform(features_selected.iloc[train,:]), target.iloc[train,:])\n",
    "  preds = clf.predict(scaler.transform(features_selected.iloc[test,:]))\n",
    "  \n",
    "  results['f1'].append(f1_score(target.iloc[test,:], preds))\n",
    "  results['precision'].append(precision_score(target.iloc[test,:], preds))\n",
    "  results['recall'].append(recall_score(target.iloc[test,:], preds))\n",
    "\n",
    "results = pd.DataFrame(results)\n",
    "\n",
    "for col in results:\n",
    "  print(f'avg for {col} is: {results[col].mean()}')\n",
    "  print(f'std for {col} is: {results[col].std()}')\n",
    "\n"
   ]
  },
  {
   "cell_type": "markdown",
   "id": "78c4923a",
   "metadata": {},
   "source": [
    "# RESULTADO FINAL MEJOR MODELO\n",
    "En la siguiente celda, escriba el mejor modelo encontrado por usted, de forma que el profesor y su ayudante puedan evaluar el performance de este modelo escogido ante nuevos datos.  Ponga por lo tanto todos los pasos requeridos para poder hacer esto, incluyendo el preprocesing que sea necesario.\n",
    "\n",
    "**Ejemplo**: si el modelo final fuera aplicar KNN con 8-vecinos usando los datos normalizados y sin la columna `has_valid_phone`, entonces debería ser algo así:\n"
   ]
  },
  {
   "cell_type": "code",
   "execution_count": null,
   "id": "4b48d0bd",
   "metadata": {},
   "outputs": [],
   "source": [
    "from sklearn.neighbors import KNeighborsClassifier\n",
    "from sklearn.preprocessing import StandardScaler\n",
    "\n",
    "data = pd.read_csv('Clothstore_data.csv')\n",
    "target = pd.read_csv('Clothstore_target.csv')\n",
    "\n",
    "#Preprocessing data\n",
    "del data['has_valid_phone']\n",
    "scaler = StandardScaler()\n",
    "dataFinal = scaler.fit_transform(data)\n",
    "\n",
    "#Mejor modelo final\n",
    "modelo_final = KNeighborsClassifier(n_neighbors=8)\n",
    "modelo_final.fit(dataFinal, target)"
   ]
  }
 ],
 "metadata": {
  "interpreter": {
   "hash": "19feec77328e1f2c69e26c8e4fc17e339574028135dedc21ae8a6cdb2d2341ae"
  },
  "kernelspec": {
   "display_name": "Python 3.8.3 ('base')",
   "language": "python",
   "name": "python3"
  },
  "language_info": {
   "codemirror_mode": {
    "name": "ipython",
    "version": 3
   },
   "file_extension": ".py",
   "mimetype": "text/x-python",
   "name": "python",
   "nbconvert_exporter": "python",
   "pygments_lexer": "ipython3",
   "version": "3.8.3"
  }
 },
 "nbformat": 4,
 "nbformat_minor": 5
}
